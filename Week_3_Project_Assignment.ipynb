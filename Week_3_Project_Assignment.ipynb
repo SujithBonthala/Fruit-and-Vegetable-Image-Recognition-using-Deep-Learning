{
  "nbformat": 4,
  "nbformat_minor": 0,
  "metadata": {
    "colab": {
      "name": "Week-3 Project Assignment.ipynb",
      "provenance": []
    },
    "kernelspec": {
      "name": "python3",
      "display_name": "Python 3"
    },
    "accelerator": "GPU"
  },
  "cells": [
    {
      "cell_type": "markdown",
      "metadata": {
        "id": "VGUEZryUIYJH"
      },
      "source": [
        "# Setting up Kaggle"
      ]
    },
    {
      "cell_type": "code",
      "metadata": {
        "id": "_BmfC5HjIeYa"
      },
      "source": [
        "! pip install --upgrade --force-reinstall --no-deps kaggle"
      ],
      "execution_count": null,
      "outputs": []
    },
    {
      "cell_type": "code",
      "metadata": {
        "id": "NvK0Gvr6IiGl"
      },
      "source": [
        "from google.colab import files\r\n",
        "files.upload()"
      ],
      "execution_count": null,
      "outputs": []
    },
    {
      "cell_type": "code",
      "metadata": {
        "id": "mw9FrdACJGik"
      },
      "source": [
        "! mkdir ~/.kaggle\r\n",
        "! cp kaggle.json ~/.kaggle/"
      ],
      "execution_count": 3,
      "outputs": []
    },
    {
      "cell_type": "code",
      "metadata": {
        "id": "3_seCxzvJLBV"
      },
      "source": [
        "! chmod 600 ~/.kaggle/kaggle.json"
      ],
      "execution_count": 4,
      "outputs": []
    },
    {
      "cell_type": "code",
      "metadata": {
        "id": "_7rxb7a-JPCm"
      },
      "source": [
        "! kaggle datasets download -d kritikseth/fruit-and-vegetable-image-recognition"
      ],
      "execution_count": null,
      "outputs": []
    },
    {
      "cell_type": "code",
      "metadata": {
        "id": "J4Q_Em3pMw4f"
      },
      "source": [
        "! unzip fruit-and-vegetable-image-recognition.zip -d dataset"
      ],
      "execution_count": null,
      "outputs": []
    },
    {
      "cell_type": "markdown",
      "metadata": {
        "id": "lYkRmiFINd-R"
      },
      "source": [
        "# Transfer Learning"
      ]
    },
    {
      "cell_type": "code",
      "metadata": {
        "id": "BYrCWbmdNi3o"
      },
      "source": [
        "import tensorflow as tf\r\n",
        "import matplotlib.pyplot as plt\r\n",
        "import numpy as np"
      ],
      "execution_count": 7,
      "outputs": []
    },
    {
      "cell_type": "code",
      "metadata": {
        "id": "uiURDlweNqin"
      },
      "source": [
        "training_path = \"/content/dataset/train\"\r\n",
        "test_path = \"/content/dataset/test\""
      ],
      "execution_count": 8,
      "outputs": []
    },
    {
      "cell_type": "code",
      "metadata": {
        "colab": {
          "base_uri": "https://localhost:8080/"
        },
        "id": "WyMvsmfcN1yo",
        "outputId": "53672ffe-74a2-408d-a6a3-20add2afa4b7"
      },
      "source": [
        "dataGen = tf.keras.preprocessing.image.ImageDataGenerator(\r\n",
        "    rescale = 1./255,\r\n",
        "    rotation_range=5,\r\n",
        "    horizontal_flip=True,\r\n",
        "    vertical_flip=True,\r\n",
        ")\r\n",
        "\r\n",
        "train_dataset_aug = dataGen.flow_from_directory(\r\n",
        "    training_path,\r\n",
        "    target_size = (224,224),\r\n",
        "    batch_size = 32,\r\n",
        "    shuffle=True,\r\n",
        "    seed = 865\r\n",
        ")\r\n",
        "\r\n",
        "test_dataset_aug = dataGen.flow_from_directory(\r\n",
        "    test_path,\r\n",
        "    target_size = (224,224),\r\n",
        "    batch_size = 32,\r\n",
        "    shuffle=True,\r\n",
        "    seed = 865\r\n",
        ")"
      ],
      "execution_count": 9,
      "outputs": [
        {
          "output_type": "stream",
          "text": [
            "Found 3581 images belonging to 36 classes.\n",
            "Found 359 images belonging to 36 classes.\n"
          ],
          "name": "stdout"
        }
      ]
    },
    {
      "cell_type": "code",
      "metadata": {
        "colab": {
          "base_uri": "https://localhost:8080/"
        },
        "id": "tGSqi8vjN3ot",
        "outputId": "25cad574-775c-4b77-f63d-a1eeeb9b2b2a"
      },
      "source": [
        "pretrained_model = tf.keras.applications.MobileNetV2(input_shape=(224,224,3),\r\n",
        "                                                include_top=False,\r\n",
        "                                                weights='imagenet')"
      ],
      "execution_count": 10,
      "outputs": [
        {
          "output_type": "stream",
          "text": [
            "Downloading data from https://storage.googleapis.com/tensorflow/keras-applications/mobilenet_v2/mobilenet_v2_weights_tf_dim_ordering_tf_kernels_1.0_224_no_top.h5\n",
            "9412608/9406464 [==============================] - 0s 0us/step\n"
          ],
          "name": "stdout"
        }
      ]
    },
    {
      "cell_type": "code",
      "metadata": {
        "id": "-Rht-o-OOJCE"
      },
      "source": [
        "pretrained_model.trainable = False"
      ],
      "execution_count": 11,
      "outputs": []
    },
    {
      "cell_type": "code",
      "metadata": {
        "id": "KGDbMuL3ONof"
      },
      "source": [
        "model = tf.keras.models.Sequential()"
      ],
      "execution_count": 12,
      "outputs": []
    },
    {
      "cell_type": "code",
      "metadata": {
        "id": "ND88XZhiOQrR"
      },
      "source": [
        "model.add(pretrained_model)"
      ],
      "execution_count": 13,
      "outputs": []
    },
    {
      "cell_type": "code",
      "metadata": {
        "id": "6KHbviYDOUFM"
      },
      "source": [
        "model.add(tf.keras.layers.GlobalAveragePooling2D())"
      ],
      "execution_count": 14,
      "outputs": []
    },
    {
      "cell_type": "code",
      "metadata": {
        "id": "crOJy9YBOYSY"
      },
      "source": [
        "model.add(tf.keras.layers.Dense(1024, activation='relu'))\r\n",
        "model.add(tf.keras.layers.Dense(512, activation='relu'))\r\n",
        "model.add(tf.keras.layers.Dense(36, activation='softmax'))"
      ],
      "execution_count": 15,
      "outputs": []
    },
    {
      "cell_type": "code",
      "metadata": {
        "id": "1tbLdRN1Ojvj"
      },
      "source": [
        "model.compile(optimizer = 'adam',\r\n",
        "                loss='categorical_crossentropy',metrics = ['accuracy'])"
      ],
      "execution_count": 16,
      "outputs": []
    },
    {
      "cell_type": "code",
      "metadata": {
        "colab": {
          "base_uri": "https://localhost:8080/"
        },
        "id": "d2HuvuMIOnHP",
        "outputId": "05b74af4-5ef6-4b44-e0f2-f55ab6f21af0"
      },
      "source": [
        "history = model.fit(train_dataset_aug, validation_data=test_dataset_aug, epochs = 15)"
      ],
      "execution_count": 17,
      "outputs": [
        {
          "output_type": "stream",
          "text": [
            "Epoch 1/15\n",
            "  5/112 [>.............................] - ETA: 2:14 - loss: 3.7032 - accuracy: 0.0656"
          ],
          "name": "stdout"
        },
        {
          "output_type": "stream",
          "text": [
            "/usr/local/lib/python3.7/dist-packages/PIL/Image.py:932: UserWarning: Palette images with Transparency expressed in bytes should be converted to RGBA images\n",
            "  \"Palette images with Transparency expressed in bytes should be \"\n"
          ],
          "name": "stderr"
        },
        {
          "output_type": "stream",
          "text": [
            " 23/112 [=====>........................] - ETA: 2:01 - loss: 3.1907 - accuracy: 0.2066"
          ],
          "name": "stdout"
        },
        {
          "output_type": "stream",
          "text": [
            "/usr/local/lib/python3.7/dist-packages/PIL/TiffImagePlugin.py:788: UserWarning: Corrupt EXIF data.  Expecting to read 4 bytes but only got 0. \n",
            "  warnings.warn(str(msg))\n"
          ],
          "name": "stderr"
        },
        {
          "output_type": "stream",
          "text": [
            "112/112 [==============================] - 208s 2s/step - loss: 2.1461 - accuracy: 0.4397 - val_loss: 0.4616 - val_accuracy: 0.8468\n",
            "Epoch 2/15\n",
            "112/112 [==============================] - 173s 2s/step - loss: 0.7057 - accuracy: 0.7782 - val_loss: 0.2773 - val_accuracy: 0.9053\n",
            "Epoch 3/15\n",
            "112/112 [==============================] - 174s 2s/step - loss: 0.5312 - accuracy: 0.8225 - val_loss: 0.2580 - val_accuracy: 0.9081\n",
            "Epoch 4/15\n",
            "112/112 [==============================] - 175s 2s/step - loss: 0.4293 - accuracy: 0.8562 - val_loss: 0.1612 - val_accuracy: 0.9276\n",
            "Epoch 5/15\n",
            "112/112 [==============================] - 173s 2s/step - loss: 0.3058 - accuracy: 0.8972 - val_loss: 0.1565 - val_accuracy: 0.9276\n",
            "Epoch 6/15\n",
            "112/112 [==============================] - 173s 2s/step - loss: 0.2498 - accuracy: 0.9132 - val_loss: 0.1546 - val_accuracy: 0.9248\n",
            "Epoch 7/15\n",
            "112/112 [==============================] - 173s 2s/step - loss: 0.2728 - accuracy: 0.9041 - val_loss: 0.1494 - val_accuracy: 0.9387\n",
            "Epoch 8/15\n",
            "112/112 [==============================] - 173s 2s/step - loss: 0.1840 - accuracy: 0.9384 - val_loss: 0.1189 - val_accuracy: 0.9526\n",
            "Epoch 9/15\n",
            "112/112 [==============================] - 174s 2s/step - loss: 0.1568 - accuracy: 0.9466 - val_loss: 0.0873 - val_accuracy: 0.9666\n",
            "Epoch 10/15\n",
            "112/112 [==============================] - 173s 2s/step - loss: 0.1427 - accuracy: 0.9516 - val_loss: 0.1015 - val_accuracy: 0.9499\n",
            "Epoch 11/15\n",
            "112/112 [==============================] - 175s 2s/step - loss: 0.1380 - accuracy: 0.9537 - val_loss: 0.0585 - val_accuracy: 0.9805\n",
            "Epoch 12/15\n",
            "112/112 [==============================] - 176s 2s/step - loss: 0.1251 - accuracy: 0.9563 - val_loss: 0.0672 - val_accuracy: 0.9721\n",
            "Epoch 13/15\n",
            "112/112 [==============================] - 175s 2s/step - loss: 0.1112 - accuracy: 0.9644 - val_loss: 0.0853 - val_accuracy: 0.9694\n",
            "Epoch 14/15\n",
            "112/112 [==============================] - 174s 2s/step - loss: 0.1152 - accuracy: 0.9579 - val_loss: 0.1283 - val_accuracy: 0.9471\n",
            "Epoch 15/15\n",
            "112/112 [==============================] - 174s 2s/step - loss: 0.0984 - accuracy: 0.9643 - val_loss: 0.1100 - val_accuracy: 0.9638\n"
          ],
          "name": "stdout"
        }
      ]
    },
    {
      "cell_type": "code",
      "metadata": {
        "colab": {
          "base_uri": "https://localhost:8080/",
          "height": 300
        },
        "id": "gd6jnL-GOrjE",
        "outputId": "4552be06-7551-4dd1-f871-ce1a58cfc77f"
      },
      "source": [
        "plt.plot(history.history['accuracy'], label='accuracy')\r\n",
        "plt.plot(history.history['val_accuracy'], label = 'val_accuracy')\r\n",
        "plt.xlabel('Epoch')\r\n",
        "plt.ylabel('Accuracy')\r\n",
        "plt.ylim([0.4, 1])\r\n",
        "plt.legend(loc='lower right')"
      ],
      "execution_count": 18,
      "outputs": [
        {
          "output_type": "execute_result",
          "data": {
            "text/plain": [
              "<matplotlib.legend.Legend at 0x7fb16c497cd0>"
            ]
          },
          "metadata": {
            "tags": []
          },
          "execution_count": 18
        },
        {
          "output_type": "display_data",
          "data": {
            "image/png": "[encoded data removed]",
            "text/plain": [
              "<Figure size 432x288 with 1 Axes>"
            ]
          },
          "metadata": {
            "tags": [],
            "needs_background": "light"
          }
        }
      ]
    },
    {
      "cell_type": "code",
      "metadata": {
        "colab": {
          "base_uri": "https://localhost:8080/",
          "height": 300
        },
        "id": "0kPTwBmahUmT",
        "outputId": "9d950cfc-10e7-48fa-8335-ab27760e0318"
      },
      "source": [
        "plt.plot(history.history['loss'], label='loss')\r\n",
        "plt.plot(history.history['val_loss'], label = 'val_loss')\r\n",
        "plt.xlabel('Epoch')\r\n",
        "plt.ylabel('Loss')\r\n",
        "plt.ylim([0,3])\r\n",
        "plt.legend(loc='upper right')"
      ],
      "execution_count": 19,
      "outputs": [
        {
          "output_type": "execute_result",
          "data": {
            "text/plain": [
              "<matplotlib.legend.Legend at 0x7fb16c1df210>"
            ]
          },
          "metadata": {
            "tags": []
          },
          "execution_count": 19
        },
        {
          "output_type": "display_data",
          "data": {
            "image/png": "[encoded data removed]",
            "text/plain": [
              "<Figure size 432x288 with 1 Axes>"
            ]
          },
          "metadata": {
            "tags": [],
            "needs_background": "light"
          }
        }
      ]
    },
    {
      "cell_type": "code",
      "metadata": {
        "colab": {
          "base_uri": "https://localhost:8080/"
        },
        "id": "dRzvC4-2X_Lc",
        "outputId": "379dc266-5c6d-4af1-a367-042ee90ea52f"
      },
      "source": [
        "!mkdir -p saved_model\r\n",
        "model.save('saved_model')"
      ],
      "execution_count": 26,
      "outputs": [
        {
          "output_type": "stream",
          "text": [
            "INFO:tensorflow:Assets written to: saved_model/assets\n"
          ],
          "name": "stdout"
        }
      ]
    },
    {
      "cell_type": "code",
      "metadata": {
        "colab": {
          "base_uri": "https://localhost:8080/"
        },
        "id": "vcFEbFtTi8fz",
        "outputId": "b1a09917-8b18-4beb-9889-323c611bdc6a"
      },
      "source": [
        "from google.colab import drive\n",
        "drive.mount('/drive')"
      ],
      "execution_count": 28,
      "outputs": [
        {
          "output_type": "stream",
          "text": [
            "Mounted at /drive\n"
          ],
          "name": "stdout"
        }
      ]
    }
  ]
}